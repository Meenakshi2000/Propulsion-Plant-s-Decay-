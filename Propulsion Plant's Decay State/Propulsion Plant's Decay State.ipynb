{
 "cells": [
  {
   "cell_type": "markdown",
   "metadata": {},
   "source": [
    "# Propulsion Plant's Decay State"
   ]
  },
  {
   "cell_type": "markdown",
   "metadata": {},
   "source": [
    "Two outputs: GT Compressor decay state coefficient and GT Turbine decay state coefficient.Data Analysis, Data visualization, Feature Selection, about 10 Machine Learning models/estimators. Multilayer Perceptron(Deep Learning/Artificial Neural Network). Dataset splitted into training and testing data in order to avoid overfitting."
   ]
  },
  {
   "cell_type": "code",
   "execution_count": 2,
   "metadata": {},
   "outputs": [
    {
     "name": "stderr",
     "output_type": "stream",
     "text": [
      "Using TensorFlow backend.\n",
      "C:\\Users\\swati\\Anaconda3\\lib\\site-packages\\tensorflow\\python\\framework\\dtypes.py:526: FutureWarning: Passing (type, 1) or '1type' as a synonym of type is deprecated; in a future version of numpy, it will be understood as (type, (1,)) / '(1,)type'.\n",
      "  _np_qint8 = np.dtype([(\"qint8\", np.int8, 1)])\n",
      "C:\\Users\\swati\\Anaconda3\\lib\\site-packages\\tensorflow\\python\\framework\\dtypes.py:527: FutureWarning: Passing (type, 1) or '1type' as a synonym of type is deprecated; in a future version of numpy, it will be understood as (type, (1,)) / '(1,)type'.\n",
      "  _np_quint8 = np.dtype([(\"quint8\", np.uint8, 1)])\n",
      "C:\\Users\\swati\\Anaconda3\\lib\\site-packages\\tensorflow\\python\\framework\\dtypes.py:528: FutureWarning: Passing (type, 1) or '1type' as a synonym of type is deprecated; in a future version of numpy, it will be understood as (type, (1,)) / '(1,)type'.\n",
      "  _np_qint16 = np.dtype([(\"qint16\", np.int16, 1)])\n",
      "C:\\Users\\swati\\Anaconda3\\lib\\site-packages\\tensorflow\\python\\framework\\dtypes.py:529: FutureWarning: Passing (type, 1) or '1type' as a synonym of type is deprecated; in a future version of numpy, it will be understood as (type, (1,)) / '(1,)type'.\n",
      "  _np_quint16 = np.dtype([(\"quint16\", np.uint16, 1)])\n",
      "C:\\Users\\swati\\Anaconda3\\lib\\site-packages\\tensorflow\\python\\framework\\dtypes.py:530: FutureWarning: Passing (type, 1) or '1type' as a synonym of type is deprecated; in a future version of numpy, it will be understood as (type, (1,)) / '(1,)type'.\n",
      "  _np_qint32 = np.dtype([(\"qint32\", np.int32, 1)])\n",
      "C:\\Users\\swati\\Anaconda3\\lib\\site-packages\\tensorflow\\python\\framework\\dtypes.py:535: FutureWarning: Passing (type, 1) or '1type' as a synonym of type is deprecated; in a future version of numpy, it will be understood as (type, (1,)) / '(1,)type'.\n",
      "  np_resource = np.dtype([(\"resource\", np.ubyte, 1)])\n"
     ]
    }
   ],
   "source": [
    "import numpy\n",
    "import pandas\n",
    "\n",
    "from sklearn.feature_selection import RFE\n",
    "from sklearn.ensemble import ExtraTreesRegressor\n",
    "\n",
    "\n",
    "import matplotlib.pyplot as plt\n",
    "\n",
    "\n",
    "from sklearn.model_selection import train_test_split\n",
    "from sklearn.linear_model import LinearRegression\n",
    "from sklearn.linear_model import Ridge\n",
    "from sklearn.ensemble import BaggingRegressor\n",
    "from sklearn.ensemble import RandomForestRegressor\n",
    "from sklearn.ensemble import ExtraTreesRegressor\n",
    "from sklearn.tree import DecisionTreeRegressor\n",
    "from sklearn.neighbors import KNeighborsRegressor\n",
    "from sklearn.metrics import explained_variance_score\n",
    "#from sklearn.metrics import mean_squared_error\n",
    "from sklearn.metrics import mean_absolute_error\n",
    "\n",
    "\n",
    "from keras.models import Sequential\n",
    "from keras.layers import Dense\n",
    "from keras.layers import Dropout\n",
    "from keras.utils import np_utils\n",
    "from keras.constraints import maxnorm\n",
    "\n",
    "# fix random seed for reproducibility\n",
    "seed = 7\n",
    "numpy.random.seed(seed)"
   ]
  },
  {
   "cell_type": "code",
   "execution_count": 25,
   "metadata": {},
   "outputs": [],
   "source": [
    "# load dataset\n",
    "dataframe = pandas.read_csv(\"propulsion.csv\",header=None)\n",
    "\n",
    "dataframe = dataframe.round(3)\n",
    "\n",
    "# Assign names to Columns\n",
    "dataframe.columns = ['','lever_position', 'ship_speed', 'gt_shaft', 'gt_rate', 'gg_rate', 'sp_torque', 'pp_torque', 'hpt_temp', 'gt_c_i_temp', 'gt_c_o_temp', 'hpt_pressure', 'gt_c_i_pressure', 'gt_c_o_pressure', 'gt_exhaust_pressure', 'turbine_inj_control', 'fuel_flow', 'gt_c_decay',  'gt_t_decay']\n",
    "\n",
    "dataframe = dataframe.dropna()\n",
    "dataframe = dataframe.drop('', axis=1)\n",
    "dataframe = dataframe.drop('gt_c_i_temp', axis=1)"
   ]
  },
  {
   "cell_type": "code",
   "execution_count": 26,
   "metadata": {},
   "outputs": [
    {
     "name": "stdout",
     "output_type": "stream",
     "text": [
      "Head:   lever_position ship_speed   gt_shaft   gt_rate   gg_rate sp_torque  \\\n",
      "1            9.3         27  72762.205  3560.393  9753.812   644.806   \n",
      "2          6.175         18  29760.552  2306.825  8780.012   246.011   \n",
      "3          3.144          9   8375.774  1386.739  7051.621    60.318   \n",
      "4          3.144          9   8377.589  1386.748  7098.469    60.339   \n",
      "5          6.175         18  29761.091  2306.825  8782.024   246.021   \n",
      "\n",
      "  pp_torque  hpt_temp gt_c_o_temp hpt_pressure gt_c_i_pressure  \\\n",
      "1   644.806  1086.583     780.304        4.523           0.998   \n",
      "2   246.011   776.921     665.511        2.518           0.998   \n",
      "3    60.318   589.764     580.587        1.392           0.998   \n",
      "4    60.339   570.651     576.565         1.39           0.998   \n",
      "5   246.021   769.855     663.682        2.518           0.998   \n",
      "\n",
      "  gt_c_o_pressure gt_exhaust_pressure turbine_inj_control fuel_flow  \\\n",
      "1          22.879                1.05              90.435      1.79   \n",
      "2          13.438                1.03              34.596     0.685   \n",
      "3           7.566                1.02              12.477     0.247   \n",
      "4           7.409               1.021              11.678     0.231   \n",
      "5          13.374               1.031              34.154     0.676   \n",
      "\n",
      "  gt_c_decay gt_t_decay  \n",
      "1      0.973      0.978  \n",
      "2      0.995      0.975  \n",
      "3       0.98      0.978  \n",
      "4      0.984          1  \n",
      "5      0.998       0.98  \n"
     ]
    }
   ],
   "source": [
    "print(\"Head:\", dataframe.head())"
   ]
  },
  {
   "cell_type": "code",
   "execution_count": 27,
   "metadata": {},
   "outputs": [
    {
     "name": "stdout",
     "output_type": "stream",
     "text": [
      "Statistical Description:        lever_position ship_speed   gt_shaft   gt_rate   gg_rate sp_torque  \\\n",
      "count           10000      10000      10000     10000     10000     10000   \n",
      "unique              9          9       9634      3422      9926      3880   \n",
      "top             4.161         12  14717.718  2678.078  6589.002    60.346   \n",
      "freq             1133       1133          3        60         6        25   \n",
      "\n",
      "       pp_torque hpt_temp gt_c_o_temp hpt_pressure gt_c_i_pressure  \\\n",
      "count      10000    10000       10000        10000           10000   \n",
      "unique      3880     9890        9694          523               1   \n",
      "top       60.346  574.611     559.331        1.389           0.998   \n",
      "freq          25        3           4          198           10000   \n",
      "\n",
      "       gt_c_o_pressure gt_exhaust_pressure turbine_inj_control fuel_flow  \\\n",
      "count            10000               10000               10000     10000   \n",
      "unique            4000                  19                7403       694   \n",
      "top              6.575               1.019                   0     0.242   \n",
      "freq                10                1615                 626        78   \n",
      "\n",
      "       gt_c_decay gt_t_decay  \n",
      "count       10000      10000  \n",
      "unique         51         26  \n",
      "top         0.963      0.984  \n",
      "freq          208        395  \n"
     ]
    }
   ],
   "source": [
    "print(\"Statistical Description:\", dataframe.describe())"
   ]
  },
  {
   "cell_type": "code",
   "execution_count": 18,
   "metadata": {},
   "outputs": [
    {
     "name": "stdout",
     "output_type": "stream",
     "text": [
      "Shape: (10000, 18)\n"
     ]
    }
   ],
   "source": [
    "print(\"Shape:\", dataframe.shape)"
   ]
  },
  {
   "cell_type": "code",
   "execution_count": 28,
   "metadata": {},
   "outputs": [
    {
     "name": "stdout",
     "output_type": "stream",
     "text": [
      "Data Types: lever_position         object\n",
      "ship_speed             object\n",
      "gt_shaft               object\n",
      "gt_rate                object\n",
      "gg_rate                object\n",
      "sp_torque              object\n",
      "pp_torque              object\n",
      "hpt_temp               object\n",
      "gt_c_o_temp            object\n",
      "hpt_pressure           object\n",
      "gt_c_i_pressure        object\n",
      "gt_c_o_pressure        object\n",
      "gt_exhaust_pressure    object\n",
      "turbine_inj_control    object\n",
      "fuel_flow              object\n",
      "gt_c_decay             object\n",
      "gt_t_decay             object\n",
      "dtype: object\n"
     ]
    }
   ],
   "source": [
    "print(\"Data Types:\", dataframe.dtypes)"
   ]
  },
  {
   "cell_type": "code",
   "execution_count": 29,
   "metadata": {},
   "outputs": [],
   "source": [
    "dataset = dataframe.values\n",
    "\n",
    "\n",
    "X = dataset[:,0:15]\n",
    "Y = dataset[:,15]\n",
    "Y2 = dataset[:,16] "
   ]
  },
  {
   "cell_type": "code",
   "execution_count": 21,
   "metadata": {},
   "outputs": [
    {
     "name": "stderr",
     "output_type": "stream",
     "text": [
      "C:\\Users\\swati\\Anaconda3\\lib\\site-packages\\sklearn\\ensemble\\forest.py:246: FutureWarning: The default value of n_estimators will change from 10 in version 0.20 to 100 in 0.22.\n",
      "  \"10 in version 0.20 to 100 in 0.22.\", FutureWarning)\n",
      "C:\\Users\\swati\\Anaconda3\\lib\\site-packages\\sklearn\\ensemble\\forest.py:246: FutureWarning: The default value of n_estimators will change from 10 in version 0.20 to 100 in 0.22.\n",
      "  \"10 in version 0.20 to 100 in 0.22.\", FutureWarning)\n",
      "C:\\Users\\swati\\Anaconda3\\lib\\site-packages\\sklearn\\ensemble\\forest.py:246: FutureWarning: The default value of n_estimators will change from 10 in version 0.20 to 100 in 0.22.\n",
      "  \"10 in version 0.20 to 100 in 0.22.\", FutureWarning)\n",
      "C:\\Users\\swati\\Anaconda3\\lib\\site-packages\\sklearn\\ensemble\\forest.py:246: FutureWarning: The default value of n_estimators will change from 10 in version 0.20 to 100 in 0.22.\n",
      "  \"10 in version 0.20 to 100 in 0.22.\", FutureWarning)\n",
      "C:\\Users\\swati\\Anaconda3\\lib\\site-packages\\sklearn\\ensemble\\forest.py:246: FutureWarning: The default value of n_estimators will change from 10 in version 0.20 to 100 in 0.22.\n",
      "  \"10 in version 0.20 to 100 in 0.22.\", FutureWarning)\n",
      "C:\\Users\\swati\\Anaconda3\\lib\\site-packages\\sklearn\\ensemble\\forest.py:246: FutureWarning: The default value of n_estimators will change from 10 in version 0.20 to 100 in 0.22.\n",
      "  \"10 in version 0.20 to 100 in 0.22.\", FutureWarning)\n",
      "C:\\Users\\swati\\Anaconda3\\lib\\site-packages\\sklearn\\ensemble\\forest.py:246: FutureWarning: The default value of n_estimators will change from 10 in version 0.20 to 100 in 0.22.\n",
      "  \"10 in version 0.20 to 100 in 0.22.\", FutureWarning)\n",
      "C:\\Users\\swati\\Anaconda3\\lib\\site-packages\\sklearn\\ensemble\\forest.py:246: FutureWarning: The default value of n_estimators will change from 10 in version 0.20 to 100 in 0.22.\n",
      "  \"10 in version 0.20 to 100 in 0.22.\", FutureWarning)\n",
      "C:\\Users\\swati\\Anaconda3\\lib\\site-packages\\sklearn\\ensemble\\forest.py:246: FutureWarning: The default value of n_estimators will change from 10 in version 0.20 to 100 in 0.22.\n",
      "  \"10 in version 0.20 to 100 in 0.22.\", FutureWarning)\n",
      "C:\\Users\\swati\\Anaconda3\\lib\\site-packages\\sklearn\\ensemble\\forest.py:246: FutureWarning: The default value of n_estimators will change from 10 in version 0.20 to 100 in 0.22.\n",
      "  \"10 in version 0.20 to 100 in 0.22.\", FutureWarning)\n",
      "C:\\Users\\swati\\Anaconda3\\lib\\site-packages\\sklearn\\ensemble\\forest.py:246: FutureWarning: The default value of n_estimators will change from 10 in version 0.20 to 100 in 0.22.\n",
      "  \"10 in version 0.20 to 100 in 0.22.\", FutureWarning)\n",
      "C:\\Users\\swati\\Anaconda3\\lib\\site-packages\\sklearn\\ensemble\\forest.py:246: FutureWarning: The default value of n_estimators will change from 10 in version 0.20 to 100 in 0.22.\n",
      "  \"10 in version 0.20 to 100 in 0.22.\", FutureWarning)\n",
      "C:\\Users\\swati\\Anaconda3\\lib\\site-packages\\sklearn\\ensemble\\forest.py:246: FutureWarning: The default value of n_estimators will change from 10 in version 0.20 to 100 in 0.22.\n",
      "  \"10 in version 0.20 to 100 in 0.22.\", FutureWarning)\n"
     ]
    },
    {
     "name": "stdout",
     "output_type": "stream",
     "text": [
      "Number of Features:  3\n",
      "Selected Features:  [False  True False  True  True False False False False False False False\n",
      " False False False]\n",
      "Feature Ranking:  [12  1  5  1  1  4  2  8 10 11  7 13  3  9  6]\n"
     ]
    }
   ],
   "source": [
    "#Feature Selection\n",
    "model = ExtraTreesRegressor()\n",
    "rfe = RFE(model, 3)\n",
    "fit = rfe.fit(X, Y)\n",
    "\n",
    "print(\"Number of Features: \", fit.n_features_)\n",
    "print(\"Selected Features: \", fit.support_)\n",
    "print(\"Feature Ranking: \", fit.ranking_) "
   ]
  },
  {
   "cell_type": "markdown",
   "metadata": {},
   "source": [
    "'gg_rate'(Gas Generator rate of revolutions (GGn) [rpm]), 'gt_c_o_pressure'(GT Compressor outlet air pressure (P2) [bar]) and 'gt_exhaust_pressure'(Gas Turbine exhaust gas pressure (Pexh) [bar]) were top 3 selected features/feature combination for predicting 'gt_c_decay'(GT Compressor decay state coefficient)"
   ]
  },
  {
   "cell_type": "code",
   "execution_count": 30,
   "metadata": {},
   "outputs": [
    {
     "name": "stderr",
     "output_type": "stream",
     "text": [
      "C:\\Users\\swati\\Anaconda3\\lib\\site-packages\\sklearn\\ensemble\\forest.py:246: FutureWarning: The default value of n_estimators will change from 10 in version 0.20 to 100 in 0.22.\n",
      "  \"10 in version 0.20 to 100 in 0.22.\", FutureWarning)\n",
      "C:\\Users\\swati\\Anaconda3\\lib\\site-packages\\sklearn\\ensemble\\forest.py:246: FutureWarning: The default value of n_estimators will change from 10 in version 0.20 to 100 in 0.22.\n",
      "  \"10 in version 0.20 to 100 in 0.22.\", FutureWarning)\n",
      "C:\\Users\\swati\\Anaconda3\\lib\\site-packages\\sklearn\\ensemble\\forest.py:246: FutureWarning: The default value of n_estimators will change from 10 in version 0.20 to 100 in 0.22.\n",
      "  \"10 in version 0.20 to 100 in 0.22.\", FutureWarning)\n",
      "C:\\Users\\swati\\Anaconda3\\lib\\site-packages\\sklearn\\ensemble\\forest.py:246: FutureWarning: The default value of n_estimators will change from 10 in version 0.20 to 100 in 0.22.\n",
      "  \"10 in version 0.20 to 100 in 0.22.\", FutureWarning)\n",
      "C:\\Users\\swati\\Anaconda3\\lib\\site-packages\\sklearn\\ensemble\\forest.py:246: FutureWarning: The default value of n_estimators will change from 10 in version 0.20 to 100 in 0.22.\n",
      "  \"10 in version 0.20 to 100 in 0.22.\", FutureWarning)\n",
      "C:\\Users\\swati\\Anaconda3\\lib\\site-packages\\sklearn\\ensemble\\forest.py:246: FutureWarning: The default value of n_estimators will change from 10 in version 0.20 to 100 in 0.22.\n",
      "  \"10 in version 0.20 to 100 in 0.22.\", FutureWarning)\n",
      "C:\\Users\\swati\\Anaconda3\\lib\\site-packages\\sklearn\\ensemble\\forest.py:246: FutureWarning: The default value of n_estimators will change from 10 in version 0.20 to 100 in 0.22.\n",
      "  \"10 in version 0.20 to 100 in 0.22.\", FutureWarning)\n",
      "C:\\Users\\swati\\Anaconda3\\lib\\site-packages\\sklearn\\ensemble\\forest.py:246: FutureWarning: The default value of n_estimators will change from 10 in version 0.20 to 100 in 0.22.\n",
      "  \"10 in version 0.20 to 100 in 0.22.\", FutureWarning)\n",
      "C:\\Users\\swati\\Anaconda3\\lib\\site-packages\\sklearn\\ensemble\\forest.py:246: FutureWarning: The default value of n_estimators will change from 10 in version 0.20 to 100 in 0.22.\n",
      "  \"10 in version 0.20 to 100 in 0.22.\", FutureWarning)\n",
      "C:\\Users\\swati\\Anaconda3\\lib\\site-packages\\sklearn\\ensemble\\forest.py:246: FutureWarning: The default value of n_estimators will change from 10 in version 0.20 to 100 in 0.22.\n",
      "  \"10 in version 0.20 to 100 in 0.22.\", FutureWarning)\n",
      "C:\\Users\\swati\\Anaconda3\\lib\\site-packages\\sklearn\\ensemble\\forest.py:246: FutureWarning: The default value of n_estimators will change from 10 in version 0.20 to 100 in 0.22.\n",
      "  \"10 in version 0.20 to 100 in 0.22.\", FutureWarning)\n",
      "C:\\Users\\swati\\Anaconda3\\lib\\site-packages\\sklearn\\ensemble\\forest.py:246: FutureWarning: The default value of n_estimators will change from 10 in version 0.20 to 100 in 0.22.\n",
      "  \"10 in version 0.20 to 100 in 0.22.\", FutureWarning)\n",
      "C:\\Users\\swati\\Anaconda3\\lib\\site-packages\\sklearn\\ensemble\\forest.py:246: FutureWarning: The default value of n_estimators will change from 10 in version 0.20 to 100 in 0.22.\n",
      "  \"10 in version 0.20 to 100 in 0.22.\", FutureWarning)\n"
     ]
    },
    {
     "name": "stdout",
     "output_type": "stream",
     "text": [
      "Number of Features:  3\n",
      "Selected Features:  [False False False False  True False False False False False False  True\n",
      " False False  True]\n",
      "Feature Ranking:  [12 11  3  4  1 10  8  5  9  7 13  1  6  2  1]\n"
     ]
    }
   ],
   "source": [
    "#Feature Selection\n",
    "model = ExtraTreesRegressor()\n",
    "rfe = RFE(model, 3)\n",
    "fit = rfe.fit(X, Y2)\n",
    "\n",
    "print(\"Number of Features: \", fit.n_features_)\n",
    "print(\"Selected Features: \", fit.support_)\n",
    "print(\"Feature Ranking: \", fit.ranking_) "
   ]
  },
  {
   "cell_type": "markdown",
   "metadata": {},
   "source": [
    "'gg_rate', 'gt_c_o_pressure' and 'turbine_inj_control'(Turbine Injecton Control (TIC) [%]) were top 3 selected features/feature combination for predicting 'gt_t_decay'(GT Turbine decay state coefficient)"
   ]
  },
  {
   "cell_type": "markdown",
   "metadata": {},
   "source": [
    "Both ouutouts, 'gt_c_decay' and 'gt_t_decay' have the same 2 feature selections, except for their last ones."
   ]
  },
  {
   "cell_type": "code",
   "execution_count": 32,
   "metadata": {},
   "outputs": [
    {
     "name": "stdout",
     "output_type": "stream",
     "text": [
      "LiR: 0.846124 (0.004621)\n",
      "Ridge: 0.824281 (0.005194)\n",
      "Bag_Re: 0.993374 (0.000653)\n"
     ]
    },
    {
     "name": "stderr",
     "output_type": "stream",
     "text": [
      "C:\\Users\\swati\\Anaconda3\\lib\\site-packages\\sklearn\\ensemble\\forest.py:246: FutureWarning: The default value of n_estimators will change from 10 in version 0.20 to 100 in 0.22.\n",
      "  \"10 in version 0.20 to 100 in 0.22.\", FutureWarning)\n"
     ]
    },
    {
     "name": "stdout",
     "output_type": "stream",
     "text": [
      "RandomForest: 0.993640 (0.000651)\n"
     ]
    },
    {
     "name": "stderr",
     "output_type": "stream",
     "text": [
      "C:\\Users\\swati\\Anaconda3\\lib\\site-packages\\sklearn\\ensemble\\forest.py:246: FutureWarning: The default value of n_estimators will change from 10 in version 0.20 to 100 in 0.22.\n",
      "  \"10 in version 0.20 to 100 in 0.22.\", FutureWarning)\n"
     ]
    },
    {
     "name": "stdout",
     "output_type": "stream",
     "text": [
      "ExtraTreesRegressor: 0.996097 (0.000528)\n"
     ]
    },
    {
     "ename": "TypeError",
     "evalue": "unsupported operand type(s) for /: 'str' and 'int'",
     "output_type": "error",
     "traceback": [
      "\u001b[1;31m---------------------------------------------------------------------------\u001b[0m",
      "\u001b[1;31mTypeError\u001b[0m                                 Traceback (most recent call last)",
      "\u001b[1;32m<ipython-input-32-c86252150368>\u001b[0m in \u001b[0;36m<module>\u001b[1;34m\u001b[0m\n\u001b[0;32m     22\u001b[0m     \u001b[0mmodel\u001b[0m\u001b[1;33m.\u001b[0m\u001b[0mfit\u001b[0m\u001b[1;33m(\u001b[0m\u001b[0mX_Train\u001b[0m\u001b[1;33m,\u001b[0m \u001b[0mY_Train\u001b[0m\u001b[1;33m)\u001b[0m\u001b[1;33m\u001b[0m\u001b[1;33m\u001b[0m\u001b[0m\n\u001b[0;32m     23\u001b[0m \u001b[1;33m\u001b[0m\u001b[0m\n\u001b[1;32m---> 24\u001b[1;33m     \u001b[0mpredictions\u001b[0m \u001b[1;33m=\u001b[0m \u001b[0mmodel\u001b[0m\u001b[1;33m.\u001b[0m\u001b[0mpredict\u001b[0m\u001b[1;33m(\u001b[0m\u001b[0mX_Test\u001b[0m\u001b[1;33m)\u001b[0m\u001b[1;33m\u001b[0m\u001b[1;33m\u001b[0m\u001b[0m\n\u001b[0m\u001b[0;32m     25\u001b[0m \u001b[1;33m\u001b[0m\u001b[0m\n\u001b[0;32m     26\u001b[0m     \u001b[1;31m# Evaluate the model\u001b[0m\u001b[1;33m\u001b[0m\u001b[1;33m\u001b[0m\u001b[1;33m\u001b[0m\u001b[0m\n",
      "\u001b[1;32m~\\Anaconda3\\lib\\site-packages\\sklearn\\neighbors\\regression.py\u001b[0m in \u001b[0;36mpredict\u001b[1;34m(self, X)\u001b[0m\n\u001b[0;32m    164\u001b[0m \u001b[1;33m\u001b[0m\u001b[0m\n\u001b[0;32m    165\u001b[0m         \u001b[1;32mif\u001b[0m \u001b[0mweights\u001b[0m \u001b[1;32mis\u001b[0m \u001b[1;32mNone\u001b[0m\u001b[1;33m:\u001b[0m\u001b[1;33m\u001b[0m\u001b[1;33m\u001b[0m\u001b[0m\n\u001b[1;32m--> 166\u001b[1;33m             \u001b[0my_pred\u001b[0m \u001b[1;33m=\u001b[0m \u001b[0mnp\u001b[0m\u001b[1;33m.\u001b[0m\u001b[0mmean\u001b[0m\u001b[1;33m(\u001b[0m\u001b[0m_y\u001b[0m\u001b[1;33m[\u001b[0m\u001b[0mneigh_ind\u001b[0m\u001b[1;33m]\u001b[0m\u001b[1;33m,\u001b[0m \u001b[0maxis\u001b[0m\u001b[1;33m=\u001b[0m\u001b[1;36m1\u001b[0m\u001b[1;33m)\u001b[0m\u001b[1;33m\u001b[0m\u001b[1;33m\u001b[0m\u001b[0m\n\u001b[0m\u001b[0;32m    167\u001b[0m         \u001b[1;32melse\u001b[0m\u001b[1;33m:\u001b[0m\u001b[1;33m\u001b[0m\u001b[1;33m\u001b[0m\u001b[0m\n\u001b[0;32m    168\u001b[0m             \u001b[0my_pred\u001b[0m \u001b[1;33m=\u001b[0m \u001b[0mnp\u001b[0m\u001b[1;33m.\u001b[0m\u001b[0mempty\u001b[0m\u001b[1;33m(\u001b[0m\u001b[1;33m(\u001b[0m\u001b[0mX\u001b[0m\u001b[1;33m.\u001b[0m\u001b[0mshape\u001b[0m\u001b[1;33m[\u001b[0m\u001b[1;36m0\u001b[0m\u001b[1;33m]\u001b[0m\u001b[1;33m,\u001b[0m \u001b[0m_y\u001b[0m\u001b[1;33m.\u001b[0m\u001b[0mshape\u001b[0m\u001b[1;33m[\u001b[0m\u001b[1;36m1\u001b[0m\u001b[1;33m]\u001b[0m\u001b[1;33m)\u001b[0m\u001b[1;33m,\u001b[0m \u001b[0mdtype\u001b[0m\u001b[1;33m=\u001b[0m\u001b[0mnp\u001b[0m\u001b[1;33m.\u001b[0m\u001b[0mfloat64\u001b[0m\u001b[1;33m)\u001b[0m\u001b[1;33m\u001b[0m\u001b[1;33m\u001b[0m\u001b[0m\n",
      "\u001b[1;32m<__array_function__ internals>\u001b[0m in \u001b[0;36mmean\u001b[1;34m(*args, **kwargs)\u001b[0m\n",
      "\u001b[1;32m~\\Anaconda3\\lib\\site-packages\\numpy\\core\\fromnumeric.py\u001b[0m in \u001b[0;36mmean\u001b[1;34m(a, axis, dtype, out, keepdims)\u001b[0m\n\u001b[0;32m   3333\u001b[0m \u001b[1;33m\u001b[0m\u001b[0m\n\u001b[0;32m   3334\u001b[0m     return _methods._mean(a, axis=axis, dtype=dtype,\n\u001b[1;32m-> 3335\u001b[1;33m                           out=out, **kwargs)\n\u001b[0m\u001b[0;32m   3336\u001b[0m \u001b[1;33m\u001b[0m\u001b[0m\n\u001b[0;32m   3337\u001b[0m \u001b[1;33m\u001b[0m\u001b[0m\n",
      "\u001b[1;32m~\\Anaconda3\\lib\\site-packages\\numpy\\core\\_methods.py\u001b[0m in \u001b[0;36m_mean\u001b[1;34m(a, axis, dtype, out, keepdims)\u001b[0m\n\u001b[0;32m    152\u001b[0m     \u001b[1;32mif\u001b[0m \u001b[0misinstance\u001b[0m\u001b[1;33m(\u001b[0m\u001b[0mret\u001b[0m\u001b[1;33m,\u001b[0m \u001b[0mmu\u001b[0m\u001b[1;33m.\u001b[0m\u001b[0mndarray\u001b[0m\u001b[1;33m)\u001b[0m\u001b[1;33m:\u001b[0m\u001b[1;33m\u001b[0m\u001b[1;33m\u001b[0m\u001b[0m\n\u001b[0;32m    153\u001b[0m         ret = um.true_divide(\n\u001b[1;32m--> 154\u001b[1;33m                 ret, rcount, out=ret, casting='unsafe', subok=False)\n\u001b[0m\u001b[0;32m    155\u001b[0m         \u001b[1;32mif\u001b[0m \u001b[0mis_float16_result\u001b[0m \u001b[1;32mand\u001b[0m \u001b[0mout\u001b[0m \u001b[1;32mis\u001b[0m \u001b[1;32mNone\u001b[0m\u001b[1;33m:\u001b[0m\u001b[1;33m\u001b[0m\u001b[1;33m\u001b[0m\u001b[0m\n\u001b[0;32m    156\u001b[0m             \u001b[0mret\u001b[0m \u001b[1;33m=\u001b[0m \u001b[0marr\u001b[0m\u001b[1;33m.\u001b[0m\u001b[0mdtype\u001b[0m\u001b[1;33m.\u001b[0m\u001b[0mtype\u001b[0m\u001b[1;33m(\u001b[0m\u001b[0mret\u001b[0m\u001b[1;33m)\u001b[0m\u001b[1;33m\u001b[0m\u001b[1;33m\u001b[0m\u001b[0m\n",
      "\u001b[1;31mTypeError\u001b[0m: unsupported operand type(s) for /: 'str' and 'int'"
     ]
    }
   ],
   "source": [
    "# Split Data to Train and Test\n",
    "X_Train, X_Test, Y_Train, Y_Test = train_test_split(X, Y, test_size=0.2)\n",
    "\n",
    "num_instances = len(X)\n",
    "\n",
    "models = []\n",
    "models.append(('LiR', LinearRegression()))\n",
    "models.append(('Ridge', Ridge()))\n",
    "models.append(('Bag_Re', BaggingRegressor()))\n",
    "models.append(('RandomForest', RandomForestRegressor()))\n",
    "models.append(('ExtraTreesRegressor', ExtraTreesRegressor()))\n",
    "models.append(('KNN', KNeighborsRegressor()))\n",
    "models.append(('CART', DecisionTreeRegressor()))\n",
    "\n",
    "# Evaluations\n",
    "results = []\n",
    "names = []\n",
    "scoring = []\n",
    "\n",
    "for name, model in models:\n",
    "    # Fit the model\n",
    "    model.fit(X_Train, Y_Train)\n",
    "    \n",
    "    predictions = model.predict(X_Test)\n",
    "    \n",
    "    # Evaluate the model\n",
    "    score = explained_variance_score(Y_Test, predictions)\n",
    "    mae = mean_absolute_error(predictions, Y_Test)\n",
    "    # print(\"%s: %.2f%%\" % (model.metrics_names[1], scores[1]*100))\n",
    "    results.append(mae)\n",
    "    names.append(name)\n",
    "    \n",
    "    msg = \"%s: %f (%f)\" % (name, score, mae)\n",
    "    print(msg)"
   ]
  },
  {
   "cell_type": "code",
   "execution_count": 43,
   "metadata": {},
   "outputs": [
    {
     "name": "stdout",
     "output_type": "stream",
     "text": [
      "LiR: 0.989465 (0.000347)\n",
      "Ridge: 0.989465 (0.000347)\n",
      "Bag_Re: 0.989465 (0.000347)\n"
     ]
    },
    {
     "name": "stderr",
     "output_type": "stream",
     "text": [
      "C:\\Users\\swati\\Anaconda3\\lib\\site-packages\\sklearn\\ensemble\\forest.py:246: FutureWarning: The default value of n_estimators will change from 10 in version 0.20 to 100 in 0.22.\n",
      "  \"10 in version 0.20 to 100 in 0.22.\", FutureWarning)\n"
     ]
    },
    {
     "name": "stdout",
     "output_type": "stream",
     "text": [
      "RandomForest: 0.989465 (0.000347)\n"
     ]
    },
    {
     "name": "stderr",
     "output_type": "stream",
     "text": [
      "C:\\Users\\swati\\Anaconda3\\lib\\site-packages\\sklearn\\ensemble\\forest.py:246: FutureWarning: The default value of n_estimators will change from 10 in version 0.20 to 100 in 0.22.\n",
      "  \"10 in version 0.20 to 100 in 0.22.\", FutureWarning)\n"
     ]
    },
    {
     "name": "stdout",
     "output_type": "stream",
     "text": [
      "ExtraTreesRegressor: 0.989465 (0.000347)\n",
      "KNN: 0.989465 (0.000347)\n",
      "CART: 0.989465 (0.000347)\n"
     ]
    }
   ],
   "source": [
    "X_Train, X_Test, Y_Train, Y_Test = train_test_split(X, Y2, test_size=0.2)\n",
    "\n",
    "num_instances = len(X)\n",
    "\n",
    "models = []\n",
    "models.append(('LiR', LinearRegression()))\n",
    "models.append(('Ridge', Ridge()))\n",
    "models.append(('Bag_Re', BaggingRegressor()))\n",
    "models.append(('RandomForest', RandomForestRegressor()))\n",
    "models.append(('ExtraTreesRegressor', ExtraTreesRegressor()))\n",
    "models.append(('KNN', KNeighborsRegressor()))\n",
    "models.append(('CART', DecisionTreeRegressor()))\n",
    "\n",
    "# Evaluations\n",
    "results = []\n",
    "names = []\n",
    "scoring = []\n",
    "\n",
    "for name, model in models:\n",
    "    # Fit the model\n",
    "    model.fit(X_Train, Y_Train)\n",
    "    \n",
    "#     predictions =model.predict(X_Test)\n",
    "    \n",
    "#     # Evaluate the model\n",
    "#     score = explained_variance_score(Y_Test, predictions)\n",
    "#     mae = mean_absolute_error(predictions, Y_Test)\n",
    "#     # print(\"%s: %.2f%%\" % (model.metrics_names[1], scores[1]*100))\n",
    "#     results.append(mae)\n",
    "#     names.append(name)\n",
    "    \n",
    "    msg = \"%s: %f (%f)\" % (name, score, mae)\n",
    "    print(msg)"
   ]
  },
  {
   "cell_type": "code",
   "execution_count": 36,
   "metadata": {},
   "outputs": [
    {
     "name": "stderr",
     "output_type": "stream",
     "text": [
      "C:\\Users\\swati\\Anaconda3\\lib\\site-packages\\ipykernel_launcher.py:9: UserWarning: Update your `Dense` call to the Keras 2 API: `Dense(6, input_dim=15, activation=\"relu\", kernel_initializer=\"uniform\")`\n",
      "  if __name__ == '__main__':\n"
     ]
    },
    {
     "name": "stdout",
     "output_type": "stream",
     "text": [
      "WARNING:tensorflow:From C:\\Users\\swati\\Anaconda3\\lib\\site-packages\\tensorflow\\python\\framework\\op_def_library.py:263: colocate_with (from tensorflow.python.framework.ops) is deprecated and will be removed in a future version.\n",
      "Instructions for updating:\n",
      "Colocations handled automatically by placer.\n",
      "WARNING:tensorflow:From C:\\Users\\swati\\Anaconda3\\lib\\site-packages\\keras\\backend\\tensorflow_backend.py:3445: calling dropout (from tensorflow.python.ops.nn_ops) with keep_prob is deprecated and will be removed in a future version.\n",
      "Instructions for updating:\n",
      "Please use `rate` instead of `keep_prob`. Rate should be set to `rate = 1 - keep_prob`.\n"
     ]
    },
    {
     "name": "stderr",
     "output_type": "stream",
     "text": [
      "C:\\Users\\swati\\Anaconda3\\lib\\site-packages\\ipykernel_launcher.py:11: UserWarning: Update your `Dense` call to the Keras 2 API: `Dense(4, activation=\"relu\", kernel_constraint=<keras.con..., kernel_initializer=\"uniform\")`\n",
      "  # This is added back by InteractiveShellApp.init_path()\n",
      "C:\\Users\\swati\\Anaconda3\\lib\\site-packages\\ipykernel_launcher.py:13: UserWarning: Update your `Dense` call to the Keras 2 API: `Dense(2, activation=\"relu\", kernel_initializer=\"uniform\")`\n",
      "  del sys.path[0]\n",
      "C:\\Users\\swati\\Anaconda3\\lib\\site-packages\\ipykernel_launcher.py:14: UserWarning: Update your `Dense` call to the Keras 2 API: `Dense(1, activation=\"relu\", kernel_initializer=\"uniform\")`\n",
      "  \n"
     ]
    },
    {
     "name": "stdout",
     "output_type": "stream",
     "text": [
      "WARNING:tensorflow:From C:\\Users\\swati\\Anaconda3\\lib\\site-packages\\tensorflow\\python\\ops\\math_ops.py:3066: to_int32 (from tensorflow.python.ops.math_ops) is deprecated and will be removed in a future version.\n",
      "Instructions for updating:\n",
      "Use tf.cast instead.\n",
      "Epoch 1/100\n",
      "7000/7000 [==============================] - 7s 935us/step - loss: 0.9747\n",
      "Epoch 2/100\n",
      "7000/7000 [==============================] - 3s 419us/step - loss: 0.9747\n",
      "Epoch 3/100\n",
      "7000/7000 [==============================] - 3s 468us/step - loss: 0.9747\n",
      "Epoch 4/100\n",
      "7000/7000 [==============================] - 4s 570us/step - loss: 0.9747\n",
      "Epoch 5/100\n",
      "7000/7000 [==============================] - 3s 491us/step - loss: 0.9747\n",
      "Epoch 6/100\n",
      "7000/7000 [==============================] - 4s 503us/step - loss: 0.9747\n",
      "Epoch 7/100\n",
      "7000/7000 [==============================] - 3s 476us/step - loss: 0.9747\n",
      "Epoch 8/100\n",
      "7000/7000 [==============================] - 3s 474us/step - loss: 0.9747\n",
      "Epoch 9/100\n",
      "7000/7000 [==============================] - 3s 496us/step - loss: 0.9747\n",
      "Epoch 10/100\n",
      "7000/7000 [==============================] - ETA: 0s - loss: 0.974 - 4s 506us/step - loss: 0.9747\n",
      "Epoch 11/100\n",
      "7000/7000 [==============================] - 3s 470us/step - loss: 0.9747\n",
      "Epoch 12/100\n",
      "7000/7000 [==============================] - 3s 479us/step - loss: 0.9747\n",
      "Epoch 13/100\n",
      "7000/7000 [==============================] - 4s 509us/step - loss: 0.9747\n",
      "Epoch 14/100\n",
      "7000/7000 [==============================] - 4s 512us/step - loss: 0.9747\n",
      "Epoch 15/100\n",
      "7000/7000 [==============================] - 4s 513us/step - loss: 0.9747\n",
      "Epoch 16/100\n",
      "7000/7000 [==============================] - 3s 409us/step - loss: 0.9747\n",
      "Epoch 17/100\n",
      "7000/7000 [==============================] - 3s 429us/step - loss: 0.9747\n",
      "Epoch 18/100\n",
      "7000/7000 [==============================] - 4s 509us/step - loss: 0.9747\n",
      "Epoch 19/100\n",
      "7000/7000 [==============================] - 3s 494us/step - loss: 0.9747\n",
      "Epoch 20/100\n",
      "7000/7000 [==============================] - 3s 474us/step - loss: 0.9747\n",
      "Epoch 21/100\n",
      "7000/7000 [==============================] - 3s 446us/step - loss: 0.9747\n",
      "Epoch 22/100\n",
      "7000/7000 [==============================] - 4s 573us/step - loss: 0.9747\n",
      "Epoch 23/100\n",
      "7000/7000 [==============================] - 4s 572us/step - loss: 0.9747\n",
      "Epoch 24/100\n",
      "7000/7000 [==============================] - 3s 462us/step - loss: 0.9747\n",
      "Epoch 25/100\n",
      "7000/7000 [==============================] - 3s 484us/step - loss: 0.9747\n",
      "Epoch 26/100\n",
      "7000/7000 [==============================] - 4s 501us/step - loss: 0.9747\n",
      "Epoch 27/100\n",
      "7000/7000 [==============================] - 3s 496us/step - loss: 0.9747\n",
      "Epoch 28/100\n",
      "7000/7000 [==============================] - 4s 508us/step - loss: 0.9747\n",
      "Epoch 29/100\n",
      "7000/7000 [==============================] - 3s 459us/step - loss: 0.9747\n",
      "Epoch 30/100\n",
      "7000/7000 [==============================] - 4s 516us/step - loss: 0.9747\n",
      "Epoch 31/100\n",
      "7000/7000 [==============================] - 3s 477us/step - loss: 0.9747\n",
      "Epoch 32/100\n",
      "7000/7000 [==============================] - 3s 461us/step - loss: 0.9747\n",
      "Epoch 33/100\n",
      "7000/7000 [==============================] - 3s 436us/step - loss: 0.9747\n",
      "Epoch 34/100\n",
      "7000/7000 [==============================] - 3s 414us/step - loss: 0.9747\n",
      "Epoch 35/100\n",
      "7000/7000 [==============================] - 4s 524us/step - loss: 0.9747\n",
      "Epoch 36/100\n",
      "7000/7000 [==============================] - 4s 542us/step - loss: 0.9747\n",
      "Epoch 37/100\n",
      "7000/7000 [==============================] - 4s 504us/step - loss: 0.9747\n",
      "Epoch 38/100\n",
      "7000/7000 [==============================] - 3s 427us/step - loss: 0.9747\n",
      "Epoch 39/100\n",
      "7000/7000 [==============================] - 4s 557us/step - loss: 0.9747\n",
      "Epoch 40/100\n",
      "7000/7000 [==============================] - 4s 564us/step - loss: 0.9747\n",
      "Epoch 41/100\n",
      "7000/7000 [==============================] - 4s 539us/step - loss: 0.9747\n",
      "Epoch 42/100\n",
      "7000/7000 [==============================] - 4s 564us/step - loss: 0.9747\n",
      "Epoch 43/100\n",
      "7000/7000 [==============================] - 4s 563us/step - loss: 0.9747\n",
      "Epoch 44/100\n",
      "7000/7000 [==============================] - 4s 561us/step - loss: 0.9747\n",
      "Epoch 45/100\n",
      "7000/7000 [==============================] - 4s 571us/step - loss: 0.9747\n",
      "Epoch 46/100\n",
      "7000/7000 [==============================] - 4s 571us/step - loss: 0.9747\n",
      "Epoch 47/100\n",
      "7000/7000 [==============================] - 4s 564us/step - loss: 0.9747\n",
      "Epoch 48/100\n",
      "7000/7000 [==============================] - 4s 566us/step - loss: 0.9747\n",
      "Epoch 49/100\n",
      "7000/7000 [==============================] - 4s 560us/step - loss: 0.9747\n",
      "Epoch 50/100\n",
      "7000/7000 [==============================] - 4s 553us/step - loss: 0.9747\n",
      "Epoch 51/100\n",
      "7000/7000 [==============================] - 3s 469us/step - loss: 0.9747\n",
      "Epoch 52/100\n",
      "7000/7000 [==============================] - 3s 395us/step - loss: 0.9747\n",
      "Epoch 53/100\n",
      "7000/7000 [==============================] - 4s 539us/step - loss: 0.9747\n",
      "Epoch 54/100\n",
      "7000/7000 [==============================] - 4s 556us/step - loss: 0.9747\n",
      "Epoch 55/100\n",
      "7000/7000 [==============================] - 4s 552us/step - loss: 0.9747\n",
      "Epoch 56/100\n",
      "7000/7000 [==============================] - 4s 565us/step - loss: 0.9747\n",
      "Epoch 57/100\n",
      "7000/7000 [==============================] - 4s 572us/step - loss: 0.9747\n",
      "Epoch 58/100\n",
      "7000/7000 [==============================] - 3s 418us/step - loss: 0.9747\n",
      "Epoch 59/100\n",
      "7000/7000 [==============================] - 3s 428us/step - loss: 0.9747\n",
      "Epoch 60/100\n",
      "7000/7000 [==============================] - 4s 522us/step - loss: 0.9747\n",
      "Epoch 61/100\n",
      "7000/7000 [==============================] - 4s 534us/step - loss: 0.9747\n",
      "Epoch 62/100\n",
      "7000/7000 [==============================] - 3s 464us/step - loss: 0.9747\n",
      "Epoch 63/100\n",
      "7000/7000 [==============================] - 4s 574us/step - loss: 0.9747\n",
      "Epoch 64/100\n",
      "7000/7000 [==============================] - 4s 563us/step - loss: 0.9747\n",
      "Epoch 65/100\n",
      "7000/7000 [==============================] - 4s 569us/step - loss: 0.9747\n",
      "Epoch 66/100\n",
      "7000/7000 [==============================] - 4s 567us/step - loss: 0.9747\n",
      "Epoch 67/100\n",
      "7000/7000 [==============================] - 4s 565us/step - loss: 0.9747\n",
      "Epoch 68/100\n",
      "7000/7000 [==============================] - 4s 597us/step - loss: 0.9747\n",
      "Epoch 69/100\n",
      "7000/7000 [==============================] - 4s 572us/step - loss: 0.9747\n",
      "Epoch 70/100\n",
      "7000/7000 [==============================] - 4s 535us/step - loss: 0.9747\n",
      "Epoch 71/100\n",
      "7000/7000 [==============================] - 4s 570us/step - loss: 0.9747\n",
      "Epoch 72/100\n",
      "7000/7000 [==============================] - 4s 553us/step - loss: 0.9747\n",
      "Epoch 73/100\n",
      "7000/7000 [==============================] - 4s 570us/step - loss: 0.9747\n",
      "Epoch 74/100\n",
      "7000/7000 [==============================] - 4s 563us/step - loss: 0.9747\n",
      "Epoch 75/100\n",
      "7000/7000 [==============================] - 4s 563us/step - loss: 0.9747\n",
      "Epoch 76/100\n",
      "7000/7000 [==============================] - 4s 580us/step - loss: 0.9747\n",
      "Epoch 77/100\n",
      "7000/7000 [==============================] - 4s 580us/step - loss: 0.9747 0s\n",
      "Epoch 78/100\n",
      "7000/7000 [==============================] - 4s 560us/step - loss: 0.9747\n",
      "Epoch 79/100\n",
      "7000/7000 [==============================] - 3s 464us/step - loss: 0.9747\n",
      "Epoch 80/100\n",
      "7000/7000 [==============================] - 4s 520us/step - loss: 0.9747\n",
      "Epoch 81/100\n",
      "7000/7000 [==============================] - 4s 572us/step - loss: 0.9747\n",
      "Epoch 82/100\n",
      "7000/7000 [==============================] - 4s 566us/step - loss: 0.9747\n",
      "Epoch 83/100\n",
      "7000/7000 [==============================] - 3s 459us/step - loss: 0.9747\n",
      "Epoch 84/100\n",
      "7000/7000 [==============================] - 3s 406us/step - loss: 0.9747\n",
      "Epoch 85/100\n",
      "7000/7000 [==============================] - 3s 489us/step - loss: 0.9747\n",
      "Epoch 86/100\n",
      "7000/7000 [==============================] - 3s 473us/step - loss: 0.9747\n",
      "Epoch 87/100\n",
      "7000/7000 [==============================] - 4s 573us/step - loss: 0.9747\n",
      "Epoch 88/100\n",
      "7000/7000 [==============================] - 4s 568us/step - loss: 0.9747\n",
      "Epoch 89/100\n",
      "7000/7000 [==============================] - 4s 544us/step - loss: 0.9747\n",
      "Epoch 90/100\n",
      "7000/7000 [==============================] - 4s 571us/step - loss: 0.9747\n",
      "Epoch 91/100\n",
      "7000/7000 [==============================] - 4s 578us/step - loss: 0.9747\n",
      "Epoch 92/100\n"
     ]
    },
    {
     "name": "stdout",
     "output_type": "stream",
     "text": [
      "7000/7000 [==============================] - 4s 508us/step - loss: 0.9747\n",
      "Epoch 93/100\n",
      "7000/7000 [==============================] - 3s 477us/step - loss: 0.9747\n",
      "Epoch 94/100\n",
      "7000/7000 [==============================] - 3s 425us/step - loss: 0.9747\n",
      "Epoch 95/100\n",
      "7000/7000 [==============================] - 3s 474us/step - loss: 0.9747\n",
      "Epoch 96/100\n",
      "7000/7000 [==============================] - 4s 512us/step - loss: 0.9747\n",
      "Epoch 97/100\n",
      "7000/7000 [==============================] - 4s 546us/step - loss: 0.9747\n",
      "Epoch 98/100\n",
      "7000/7000 [==============================] - 3s 455us/step - loss: 0.9747\n",
      "Epoch 99/100\n",
      "7000/7000 [==============================] - 3s 491us/step - loss: 0.9747\n",
      "Epoch 100/100\n",
      "7000/7000 [==============================] - 3s 461us/step - loss: 0.9747\n",
      "3000/3000 [==============================] - 1s 212us/step\n",
      "score: 99.02%\n"
     ]
    }
   ],
   "source": [
    "# Split Data to Train and Test\n",
    "X_Train, X_Test, Y_Train, Y_Test = train_test_split(X, Y, test_size=0.3)\n",
    "\n",
    "\n",
    "\n",
    "\n",
    "# create model\n",
    "model = Sequential()\n",
    "model.add(Dense(6, input_dim=15, init='uniform', activation='relu'))\n",
    "model.add(Dropout(0.2))\n",
    "model.add(Dense(4, init='uniform', activation='relu', kernel_constraint=maxnorm(3)))\n",
    "model.add(Dropout(0.2))\n",
    "model.add(Dense(2, init='uniform', activation='relu'))\n",
    "model.add(Dense(1, init='uniform', activation='relu'))\n",
    "\n",
    "# Compile model\n",
    "model.compile(loss='mean_absolute_error', optimizer='adam')\n",
    "\n",
    "# Fit the model\n",
    "model.fit(X_Train, Y_Train, epochs=100, batch_size=10)\n",
    "\n",
    "# Evaluate the model\n",
    "scores = model.evaluate(X_Test, Y_Test)\n",
    "print(\"score: %.2f%%\" % (100-scores))"
   ]
  },
  {
   "cell_type": "code",
   "execution_count": null,
   "metadata": {},
   "outputs": [],
   "source": []
  }
 ],
 "metadata": {
  "kernelspec": {
   "display_name": "Python 3",
   "language": "python",
   "name": "python3"
  },
  "language_info": {
   "codemirror_mode": {
    "name": "ipython",
    "version": 3
   },
   "file_extension": ".py",
   "mimetype": "text/x-python",
   "name": "python",
   "nbconvert_exporter": "python",
   "pygments_lexer": "ipython3",
   "version": "3.7.1"
  }
 },
 "nbformat": 4,
 "nbformat_minor": 2
}
